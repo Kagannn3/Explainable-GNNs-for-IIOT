{
 "cells": [
  {
   "cell_type": "markdown",
   "id": "05401bc0",
   "metadata": {},
   "source": [
    "# 02_federated_split_summary.ipynb\n",
    "\n"
   ]
  },
  {
   "cell_type": "markdown",
   "id": "a5ef9ed4",
   "metadata": {},
   "source": [
    "## Federated Split Summary\n",
    "\n",
    "In this notebook we:\n",
    "1. Load the preprocessed CMAPSS sliding-window dataset.\n",
    "2. Apply a non-IID split by operating condition to simulate three IIoT edge clients.\n",
    "3. Summarize the number of samples per client in a table.\n"
   ]
  },
  {
   "cell_type": "code",
   "execution_count": null,
   "id": "840bed70",
   "metadata": {},
   "outputs": [],
   "source": [
    "# Standard imports\n",
    "import pandas as pd\n",
    "\n",
    "# Import our data loader (creates sliding-window Data objects)\n",
    "from phase2_data_loader import load_cmapss\n",
    "\n",
    "# Import the federated splitting function\n",
    "from phase2_federated_split import non_iid_split_by_condition\n",
    "\n",
    "# For nice DataFrame display in the notebook we use ace_tools\n",
    "import ace_tools as tools\n",
    "\n",
    "# Import the preprocess function for the SECOM dataset\n",
    "from src.preprocess_secom import load_secom\n",
    "\n",
    "# Import the preprocess function for the SECOM dataset\n",
    "from src.phase2_federated_split import non_iid_split_by_condition"
   ]
  },
  {
   "cell_type": "code",
   "execution_count": null,
   "id": "5b7a1fdb",
   "metadata": {},
   "outputs": [],
   "source": [
    "# 1️⃣ Load CMAPSS FD003 data as sliding windows\n",
    "#    - data_dir: path where your CMAPSS files live\n",
    "#    - dataset: which FD00x file to use\n",
    "#    - window_size & stride: controls time-series windowing\n",
    "data_list_cmapps = load_cmapss(\n",
    "    data_dir='data/CMAPSS',\n",
    "    dataset='FD003',\n",
    "    window_size=30,\n",
    "    stride=5\n",
    ")\n",
    "\n",
    "# 1. Load all windows\n",
    "data_list_secom = load_secom('data/SECOM', window_size=30, stride=5, threshold=0.8)\n",
    "\n",
    "\n",
    "# Quick sanity check\n",
    "print(f\"Total sliding-window samples for CMAPSS: {len(data_list_cmapps)}\")\n",
    "\n",
    "\n",
    "# Quick sanity check\n",
    "print(f\"Total sliding-window samples for SECOM: {len(data_list_secom)}\")\n"
   ]
  },
  {
   "cell_type": "code",
   "execution_count": null,
   "id": "bf121b8e",
   "metadata": {},
   "outputs": [],
   "source": [
    "# 2️⃣ Split into 3 non-IID clients by operating condition\n",
    "splits_cmapss = non_iid_split_by_condition(data_list_cmapps, cm_pass_threshold=125.0)\n",
    "\n",
    "# 2. Split by index modulo 3\n",
    "splits_secom = non_iid_split_by_condition(data_list_secom)\n",
    "\n",
    "# 3. Inspect distribution\n",
    "for cid, items in splits_cmapss.items():\n",
    "    ys = [d.y.item() for d in items]\n",
    "    print(f\"Client {cid}: count={len(ys)}, \"\n",
    "          f\"early-life>={125}={sum(y>=125 for y in ys)}, \"\n",
    "          f\"late-life< {125}={sum(y<125 for y in ys)}\")\n",
    "\n",
    "\n",
    "# 3. Inspect\n",
    "for cid, items in splits_secom.items():\n",
    "    labels = [int(d.y.item()) for d in items]\n",
    "    print(f\"Client {cid}: total={len(labels)}, healthy={labels.count(0)}, failures={labels.count(1)}\")\n",
    "\n"
   ]
  },
  {
   "cell_type": "code",
   "execution_count": null,
   "id": "07291a98",
   "metadata": {},
   "outputs": [],
   "source": [
    "# 3️⃣ Build a summary DataFrame for easy inspection\n",
    "summary = pd.DataFrame([\n",
    "    {\n",
    "        'Client ID': client_id,\n",
    "        'Num Samples': len(items)\n",
    "    }\n",
    "    for client_id, items in splits_cmapss.items()\n",
    "])\n",
    "\n",
    "# Display interactively in the notebook\n",
    "tools.display_dataframe_to_user(\n",
    "    name='Federated Split Summary',\n",
    "    dataframe=summary\n",
    ")\n"
   ]
  },
  {
   "cell_type": "markdown",
   "id": "d7738e6d",
   "metadata": {},
   "source": [
    "### Interpretation\n",
    "\n",
    "- We see how many sliding-window samples each simulated edge client holds.\n",
    "- This non-IID split (by operating condition) will drive our federated training experiments.\n"
   ]
  }
 ],
 "metadata": {
  "kernelspec": {
   "display_name": ".venv",
   "language": "python",
   "name": "python3"
  },
  "language_info": {
   "name": "python",
   "version": "3.11.9"
  }
 },
 "nbformat": 4,
 "nbformat_minor": 5
}
