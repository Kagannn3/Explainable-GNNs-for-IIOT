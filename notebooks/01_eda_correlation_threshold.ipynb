{
 "cells": [
  {
   "cell_type": "markdown",
   "id": "55306db4",
   "metadata": {},
   "source": [
    "# 01_eda_correlation_threshold.ipynb\n",
    "\n",
    "This notebook explores the distribution of Pearson correlation coefficients across CMAPSS sensor time-windows, so we can choose an appropriate threshold τ for graph construction.\n"
   ]
  },
  {
   "cell_type": "code",
   "execution_count": null,
   "id": "da09cefd",
   "metadata": {},
   "outputs": [
    {
     "ename": "",
     "evalue": "",
     "output_type": "error",
     "traceback": [
      "\u001b[1;31mRunning cells with '.venv (Python 3.11.9)' requires the ipykernel package.\n",
      "\u001b[1;31mInstall 'ipykernel' into the Python environment. \n",
      "\u001b[1;31mCommand: '\"c:/Users/Lenovo/Desktop/vs code projects/Explainable GNNs for IIOT/.venv/Scripts/python.exe\" -m pip install ipykernel -U --force-reinstall'"
     ]
    }
   ],
   "source": [
    "# Cell 1: Imports and setup\n",
    "\n",
    "# Standard libraries\n",
    "import numpy as np\n",
    "import matplotlib.pyplot as plt\n",
    "\n",
    "# Torch Geometric data loader for our custom function\n",
    "from phase2_data_loader import load_cmapss\n",
    "\n",
    "# Ensure plots display inline in the notebook\n",
    "%matplotlib inline\n"
   ]
  },
  {
   "cell_type": "markdown",
   "id": "ff0dab0f",
   "metadata": {},
   "source": [
    "## 1. Load CMAPSS Sliding Windows\n",
    "\n",
    "We’ll load a subset of windows from the FD003 dataset:\n",
    "- `window_size=30`: each sample is 30 time-steps long  \n",
    "- `stride=30`: non-overlapping batches for speed during EDA  \n",
    "- We then keep only the first 50 windows to make plotting fast\n"
   ]
  },
  {
   "cell_type": "code",
   "execution_count": null,
   "id": "b3423197",
   "metadata": {},
   "outputs": [],
   "source": [
    "# Cell 2: Load a small subset of windows for exploratory analysis\n",
    "\n",
    "# Path to the CMAPSS data directory (adjust if needed)\n",
    "DATA_DIR = 'data/CMAPSS'\n",
    "\n",
    "# Load windows: returns a list of `torch_geometric.data.Data` objects\n",
    "windows = load_cmapss(\n",
    "    data_dir=DATA_DIR,\n",
    "    dataset='FD003',\n",
    "    window_size=30,\n",
    "    stride=30\n",
    ")\n",
    "\n",
    "# Keep only the first 50 windows for speed\n",
    "windows = windows[:50]\n",
    "\n",
    "print(f\"Loaded {len(windows)} windows, each with shape {windows[0].x.shape}\")\n"
   ]
  },
  {
   "cell_type": "markdown",
   "id": "a5a2d22c",
   "metadata": {},
   "source": [
    "## 2. Compute Pairwise Sensor Correlations\n",
    "\n",
    "For each window:\n",
    "1. Extract the sensor feature matrix `x` of shape `(window_size, num_sensors)`.  \n",
    "2. Compute the Pearson correlation matrix across sensor channels.  \n",
    "3. Collect the upper-triangle (off-diagonal) correlations for histogramming.\n"
   ]
  },
  {
   "cell_type": "code",
   "execution_count": null,
   "id": "192ad1a8",
   "metadata": {},
   "outputs": [],
   "source": [
    "# Cell 3: Compute correlations\n",
    "\n",
    "all_corrs = []  # will store all pairwise correlations across windows\n",
    "\n",
    "for data in windows:\n",
    "    # `data.x` is a torch.Tensor of shape [window_size, num_sensors]\n",
    "    x = data.x.numpy()  # convert to NumPy for correlation\n",
    "    corr_matrix = np.corrcoef(x.T)  # shape [num_sensors, num_sensors]\n",
    "\n",
    "    # Extract only the off-diagonal (i < j) entries\n",
    "    triu_i, triu_j = np.triu_indices_from(corr_matrix, k=1)\n",
    "    pairwise_corrs = corr_matrix[triu_i, triu_j]\n",
    "\n",
    "    all_corrs.extend(pairwise_corrs)\n",
    "\n",
    "all_corrs = np.array(all_corrs)\n",
    "print(f\"Total correlations collected: {all_corrs.shape[0]}\")\n"
   ]
  },
  {
   "cell_type": "markdown",
   "id": "c047451f",
   "metadata": {},
   "source": [
    "## 3. Plot Distribution of |Correlation|\n",
    "\n",
    "We take the absolute value of correlations—since both strong positive and strong negative relationships are informative.  \n",
    "We then plot a histogram to see where most sensor-sensor correlations lie.\n"
   ]
  },
  {
   "cell_type": "code",
   "execution_count": null,
   "id": "e3102b63",
   "metadata": {},
   "outputs": [],
   "source": [
    "# Cell 4: Plot histogram\n",
    "\n",
    "# Compute absolute correlations\n",
    "abs_corrs = np.abs(all_corrs)\n",
    "\n",
    "plt.figure(figsize=(8, 4))\n",
    "plt.hist(abs_corrs, bins=30, edgecolor='black')\n",
    "plt.title('Distribution of |Pearson Correlations| Across CMAPSS Windows')\n",
    "plt.xlabel('|Correlation|')\n",
    "plt.ylabel('Frequency')\n",
    "plt.grid(axis='y', alpha=0.3)\n",
    "plt.tight_layout()\n",
    "plt.show()\n"
   ]
  },
  {
   "cell_type": "markdown",
   "id": "9cdfa0d2",
   "metadata": {},
   "source": [
    "## 4. Choose Threshold τ\n",
    "\n",
    "From the histogram, identify a τ that captures the top ~10% of |corr| values.  \n",
    "Let’s compute the 90th percentile to guide our choice.\n"
   ]
  },
  {
   "cell_type": "code",
   "execution_count": null,
   "id": "47e5adcf",
   "metadata": {},
   "outputs": [],
   "source": [
    "# Cell 5: Compute percentiles\n",
    "\n",
    "for p in [75, 80, 85, 90, 95]:\n",
    "    val = np.percentile(abs_corrs, p)\n",
    "    print(f\"{p}th percentile of |corr|: {val:.3f}\")\n"
   ]
  },
  {
   "cell_type": "markdown",
   "id": "bcc0bb20",
   "metadata": {},
   "source": [
    "**Interpretation:**  \n",
    "- E.g., if the 90th percentile is around 0.80, setting τ = 0.8 will retain only the strongest 10% of sensor‐sensor edges.  \n",
    "\n",
    "You can now use this τ in your `build_graph(..., threshold=τ)` function during graph construction.\n"
   ]
  }
 ],
 "metadata": {
  "kernelspec": {
   "display_name": ".venv",
   "language": "python",
   "name": "python3"
  },
  "language_info": {
   "name": "python",
   "version": "3.11.9"
  }
 },
 "nbformat": 4,
 "nbformat_minor": 5
}
